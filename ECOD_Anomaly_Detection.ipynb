{
 "cells": [
  {
   "cell_type": "code",
   "execution_count": null,
   "metadata": {},
   "outputs": [],
   "source": [
    "from pyod.models.ecod import ECOD\n",
    "import numpy as np\n",
    "import pandas as pd\n",
    "\n",
    "# Sample Data Creation\n",
    "np.random.seed(42)\n",
    "X_train = 0.3 * np.random.randn(100, 2)\n",
    "X_train = np.r_[X_train + 2, X_train - 2]\n",
    "X_test = 0.3 * np.random.randn(20, 2)\n",
    "X_test = np.r_[X_test + 2, X_test - 2]\n",
    "X_outliers = np.random.uniform(low=-4, high=4, size=(20, 2))\n",
    "\n",
    "# Combine Test Data and Outliers\n",
    "X_test_with_outliers = np.r_[X_test, X_outliers]"
   ]
  },
  {
   "cell_type": "code",
   "execution_count": null,
   "metadata": {},
   "outputs": [],
   "source": [
    "# Initialize ECOD Model\n",
    "clf = ECOD()\n",
    "\n",
    "# Fit the model on the training data\n",
    "clf.fit(X_train)"
   ]
  },
  {
   "cell_type": "code",
   "execution_count": null,
   "metadata": {},
   "outputs": [],
   "source": [
    "# Predict Outliers\n",
    "y_train_pred = clf.labels_  # Predicted labels for the training data\n",
    "y_test_pred = clf.predict(X_test_with_outliers)  # Predicted labels for test data\n",
    "\n",
    "# Decision Scores\n",
    "train_scores = clf.decision_scores_  # Scores for training data\n",
    "test_scores = clf.decision_function(X_test_with_outliers)  # Scores for test data"
   ]
  },
  {
   "cell_type": "code",
   "execution_count": null,
   "metadata": {},
   "outputs": [],
   "source": [
    "# Save Results in a DataFrame\n",
    "results = pd.DataFrame({\n",
    "    'X1': X_test_with_outliers[:, 0],\n",
    "    'X2': X_test_with_outliers[:, 1],\n",
    "    'Outlier_Prediction': y_test_pred,\n",
    "    'Anomaly_Score': test_scores\n",
    "})\n",
    "\n",
    "results.head()"
   ]
  }
 ],
 "metadata": {
  "kernelspec": {
   "display_name": "Python 3 (ipykernel)",
   "language": "python",
   "name": "python3"
  },
  "language_info": {
   "codemirror_mode": {
    "name": "ipython",
    "version": 3
   },
   "file_extension": ".py",
   "mimetype": "text/x-python",
   "name": "python",
   "nbconvert_exporter": "python",
   "pygments_lexer": "ipython3",
   "version": "3.13.0"
  }
 },
 "nbformat": 4,
 "nbformat_minor": 4
}
